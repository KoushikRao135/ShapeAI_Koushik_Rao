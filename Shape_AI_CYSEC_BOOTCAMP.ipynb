{
  "nbformat": 4,
  "nbformat_minor": 0,
  "metadata": {
    "colab": {
      "name": "Shape AI CYSEC BOOTCAMP.ipynb",
      "provenance": [],
      "collapsed_sections": [],
      "authorship_tag": "ABX9TyMmGpGgzfazBh9iy8oX+QjF",
      "include_colab_link": true
    },
    "kernelspec": {
      "name": "python3",
      "display_name": "Python 3"
    },
    "language_info": {
      "name": "python"
    }
  },
  "cells": [
    {
      "cell_type": "markdown",
      "metadata": {
        "id": "view-in-github",
        "colab_type": "text"
      },
      "source": [
        "<a href=\"https://colab.research.google.com/github/KoushikRao135/ShapeAI_Koushik_Rao/blob/main/Shape_AI_CYSEC_BOOTCAMP.ipynb\" target=\"_parent\"><img src=\"https://colab.research.google.com/assets/colab-badge.svg\" alt=\"Open In Colab\"/></a>"
      ]
    },
    {
      "cell_type": "code",
      "metadata": {
        "id": "vK9AgRdKeVqN"
      },
      "source": [
        "import requests\n"
      ],
      "execution_count": null,
      "outputs": []
    },
    {
      "cell_type": "code",
      "metadata": {
        "id": "eA4zI8h5f9aB"
      },
      "source": [
        "from datetime import datetime"
      ],
      "execution_count": null,
      "outputs": []
    },
    {
      "cell_type": "code",
      "metadata": {
        "id": "bnYXlBokgDyZ"
      },
      "source": [
        "api_key ='580ce43edde84af63b4bc998c65f9878'"
      ],
      "execution_count": null,
      "outputs": []
    },
    {
      "cell_type": "code",
      "metadata": {
        "id": "wNppdWxkguA1",
        "colab": {
          "base_uri": "https://localhost:8080/"
        },
        "outputId": "822d1a59-32c1-45e6-ec56-42a70b2dc3ca"
      },
      "source": [
        "location = input (\"enter your city name\")"
      ],
      "execution_count": null,
      "outputs": [
        {
          "output_type": "stream",
          "text": [
            "enter your city namemedak\n"
          ],
          "name": "stdout"
        }
      ]
    },
    {
      "cell_type": "code",
      "metadata": {
        "id": "jq8tS4jdg4w-"
      },
      "source": [
        "complete_api_link = \"https://api.openweathermap.org/data/2.5/weather?q=\"+location+\"&appid=\"+api_key"
      ],
      "execution_count": 61,
      "outputs": []
    },
    {
      "cell_type": "code",
      "metadata": {
        "id": "Sc7HbOlK08da"
      },
      "source": [
        "api_link = requests.get(complete_api_link)"
      ],
      "execution_count": 62,
      "outputs": []
    },
    {
      "cell_type": "code",
      "metadata": {
        "id": "IQuv9RyF1EUw"
      },
      "source": [
        "api_data = api_link.json()\n",
        "\n",
        "\n"
      ],
      "execution_count": 63,
      "outputs": []
    },
    {
      "cell_type": "code",
      "metadata": {
        "id": "Yb6wFH0M1v5C"
      },
      "source": [
        "temp_city = ((api_data['main']['temp']) - 237.15)"
      ],
      "execution_count": 64,
      "outputs": []
    },
    {
      "cell_type": "code",
      "metadata": {
        "id": "uDudzbYQ6wa-"
      },
      "source": [
        "weather_desc = api_data['weather'][0]['description']"
      ],
      "execution_count": 70,
      "outputs": []
    },
    {
      "cell_type": "code",
      "metadata": {
        "id": "JD2DARLp7Fy2"
      },
      "source": [
        "hmdt = api_data['main']['humidity']"
      ],
      "execution_count": 69,
      "outputs": []
    },
    {
      "cell_type": "code",
      "metadata": {
        "id": "pTBbwFJF7PKF"
      },
      "source": [
        "wind_speed = api_data['wind']['speed']"
      ],
      "execution_count": 68,
      "outputs": []
    },
    {
      "cell_type": "code",
      "metadata": {
        "id": "0iwppRvi7YgJ"
      },
      "source": [
        "date_time = datetime.now().strftime(\"%d %b %Y | %I:%M:%S %p\")"
      ],
      "execution_count": 75,
      "outputs": []
    },
    {
      "cell_type": "code",
      "metadata": {
        "colab": {
          "base_uri": "https://localhost:8080/"
        },
        "id": "sbsihdoT717K",
        "outputId": "2de3297f-0911-48a5-8c50-7f184af65613"
      },
      "source": [
        "print (\"----------------------------------------------------------------\")"
      ],
      "execution_count": 81,
      "outputs": [
        {
          "output_type": "stream",
          "text": [
            "----------------------------------------------------------------\n"
          ],
          "name": "stdout"
        }
      ]
    },
    {
      "cell_type": "code",
      "metadata": {
        "colab": {
          "base_uri": "https://localhost:8080/"
        },
        "id": "Z1McX1y877zo",
        "outputId": "07a4407a-c29a-4f26-cf38-0430252a4e06"
      },
      "source": [
        "print (\"weather stats for - {} || {}\".format(location.upper(), date_time))"
      ],
      "execution_count": 80,
      "outputs": [
        {
          "output_type": "stream",
          "text": [
            "weather stats for - MEDAK || 22 Jun 2021 | 09:00:05 AM\n"
          ],
          "name": "stdout"
        }
      ]
    },
    {
      "cell_type": "code",
      "metadata": {
        "colab": {
          "base_uri": "https://localhost:8080/"
        },
        "id": "UWbuXLm79vFv",
        "outputId": "9b27d08e-107f-4dfb-a370-13b45387f162"
      },
      "source": [
        "print (\"----------------------------------------------------------------\")"
      ],
      "execution_count": 82,
      "outputs": [
        {
          "output_type": "stream",
          "text": [
            "----------------------------------------------------------------\n"
          ],
          "name": "stdout"
        }
      ]
    },
    {
      "cell_type": "code",
      "metadata": {
        "colab": {
          "base_uri": "https://localhost:8080/"
        },
        "id": "sUSjq9AW8vVK",
        "outputId": "1136bb64-c5fc-419c-9114-450e611aecbe"
      },
      "source": [
        "print (\"Current temperature is: {:.2f} deg C\".format(temp_city))"
      ],
      "execution_count": 79,
      "outputs": [
        {
          "output_type": "stream",
          "text": [
            "Current temperature is: 68.59 deg C\n"
          ],
          "name": "stdout"
        }
      ]
    },
    {
      "cell_type": "code",
      "metadata": {
        "colab": {
          "base_uri": "https://localhost:8080/"
        },
        "id": "G7i0_wfU9H1y",
        "outputId": "c0452772-1fde-49f0-a6a7-5a8bfd0f7b76"
      },
      "source": [
        "print (\"Current weather desc  :\",weather_desc)"
      ],
      "execution_count": 78,
      "outputs": [
        {
          "output_type": "stream",
          "text": [
            "Current weather desc  : overcast clouds\n"
          ],
          "name": "stdout"
        }
      ]
    },
    {
      "cell_type": "code",
      "metadata": {
        "colab": {
          "base_uri": "https://localhost:8080/"
        },
        "id": "fWDikPfE9VJw",
        "outputId": "d0a259c0-e6b6-4d6f-cd07-78c39f908a9f"
      },
      "source": [
        "print (\"Current wind speed    :\",wind_speed ,'kmph')"
      ],
      "execution_count": 85,
      "outputs": [
        {
          "output_type": "stream",
          "text": [
            "Current wind speed    : 5.08 kmph\n"
          ],
          "name": "stdout"
        }
      ]
    }
  ]
}